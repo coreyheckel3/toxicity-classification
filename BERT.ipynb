{
 "cells": [
  {
   "cell_type": "markdown",
   "id": "db59e911-4b72-40b1-b639-78e7d567eb9e",
   "metadata": {},
   "source": [
    "## BERT Model"
   ]
  },
  {
   "cell_type": "code",
   "execution_count": 2,
   "id": "91f50f17-d34f-4901-a25c-0173227a8d81",
   "metadata": {},
   "outputs": [
    {
     "name": "stdout",
     "output_type": "stream",
     "text": [
      "Using device: cpu\n"
     ]
    }
   ],
   "source": [
    "import numpy as np\n",
    "import pandas as pd\n",
    "from tqdm import tqdm\n",
    "from sklearn.model_selection import train_test_split\n",
    "from sklearn.metrics import accuracy_score, precision_score, recall_score, f1_score, confusion_matrix, roc_auc_score\n",
    "import torch\n",
    "import torch.nn as nn\n",
    "import torch.optim as optim\n",
    "from torch.utils.data import DataLoader, Dataset\n",
    "from sklearn.preprocessing import LabelEncoder\n",
    "\n",
    "device = torch.device(\"cuda\" if torch.cuda.is_available() else \"cpu\")\n",
    "print(\"Using device:\", device)"
   ]
  },
  {
   "cell_type": "code",
   "execution_count": 3,
   "id": "e16ff5d1-7faf-419c-8675-330f66a6b273",
   "metadata": {},
   "outputs": [],
   "source": [
    "train = pd.read_csv('CS 583 Project/jigsaw-toxic-comment-train.csv')\n",
    "validation = pd.read_csv('CS 583 Project/validation.csv')\n",
    "test = pd.read_csv('CS 583 Project/test.csv')"
   ]
  },
  {
   "cell_type": "code",
   "execution_count": 4,
   "id": "e7585ff7-cd02-4ecd-8e10-eb8030450989",
   "metadata": {},
   "outputs": [],
   "source": [
    "train.drop(['severe_toxic', 'obscene', 'threat', 'insult', 'identity_hate'], axis=1, inplace=True)\n",
    "train = train.loc[:12000, :]"
   ]
  },
  {
   "cell_type": "code",
   "execution_count": 5,
   "id": "77ecbdb5-4738-47d2-8de4-921c6fc737bf",
   "metadata": {},
   "outputs": [],
   "source": [
    "xtrain, xvalid, ytrain, yvalid = train_test_split(\n",
    "    train['comment_text'], train['toxic'], stratify=train['toxic'], random_state=42, test_size=0.2, shuffle=True\n",
    ")"
   ]
  },
  {
   "cell_type": "code",
   "execution_count": 6,
   "id": "74523047-7699-4d9f-b207-dc95c5df452a",
   "metadata": {},
   "outputs": [
    {
     "data": {
      "application/vnd.jupyter.widget-view+json": {
       "model_id": "bfbce8c9911147bbb94750926f9654a0",
       "version_major": 2,
       "version_minor": 0
      },
      "text/plain": [
       "tokenizer_config.json:   0%|          | 0.00/48.0 [00:00<?, ?B/s]"
      ]
     },
     "metadata": {},
     "output_type": "display_data"
    },
    {
     "name": "stderr",
     "output_type": "stream",
     "text": [
      "C:\\Users\\wheel\\anaconda3\\Lib\\site-packages\\huggingface_hub\\file_download.py:159: UserWarning: `huggingface_hub` cache-system uses symlinks by default to efficiently store duplicated files but your machine does not support them in C:\\Users\\wheel\\.cache\\huggingface\\hub\\models--bert-base-uncased. Caching files will still work but in a degraded version that might require more space on your disk. This warning can be disabled by setting the `HF_HUB_DISABLE_SYMLINKS_WARNING` environment variable. For more details, see https://huggingface.co/docs/huggingface_hub/how-to-cache#limitations.\n",
      "To support symlinks on Windows, you either need to activate Developer Mode or to run Python as an administrator. In order to see activate developer mode, see this article: https://docs.microsoft.com/en-us/windows/apps/get-started/enable-your-device-for-development\n",
      "  warnings.warn(message)\n"
     ]
    },
    {
     "data": {
      "application/vnd.jupyter.widget-view+json": {
       "model_id": "1c1b4d658b734d67a1ecb992758006b1",
       "version_major": 2,
       "version_minor": 0
      },
      "text/plain": [
       "config.json:   0%|          | 0.00/570 [00:00<?, ?B/s]"
      ]
     },
     "metadata": {},
     "output_type": "display_data"
    },
    {
     "data": {
      "application/vnd.jupyter.widget-view+json": {
       "model_id": "7c9fa47ce7e84948acd68987d523f895",
       "version_major": 2,
       "version_minor": 0
      },
      "text/plain": [
       "vocab.txt:   0%|          | 0.00/232k [00:00<?, ?B/s]"
      ]
     },
     "metadata": {},
     "output_type": "display_data"
    },
    {
     "data": {
      "application/vnd.jupyter.widget-view+json": {
       "model_id": "c1bc1edb2cb941dbb8710483a0af7c07",
       "version_major": 2,
       "version_minor": 0
      },
      "text/plain": [
       "tokenizer.json:   0%|          | 0.00/466k [00:00<?, ?B/s]"
      ]
     },
     "metadata": {},
     "output_type": "display_data"
    }
   ],
   "source": [
    "from transformers import AutoTokenizer, AutoModel, AdamW\n",
    "\n",
    "tokenizer = AutoTokenizer.from_pretrained(\"bert-base-uncased\")\n"
   ]
  },
  {
   "cell_type": "code",
   "execution_count": 7,
   "id": "b28322bf-90b3-4100-9845-38bbfb1a99cf",
   "metadata": {},
   "outputs": [],
   "source": [
    "class ToxicCommentsDataset(Dataset):\n",
    "    def __init__(self, texts, targets, tokenizer, max_len=150):\n",
    "        self.texts = texts\n",
    "        self.targets = targets\n",
    "        self.tokenizer = tokenizer\n",
    "        self.max_len = max_len\n",
    "\n",
    "    def __len__(self):\n",
    "        return len(self.texts)\n",
    "\n",
    "    def __getitem__(self, idx):\n",
    "        text = self.texts.iloc[idx]\n",
    "        target = self.targets.iloc[idx]\n",
    "        encoding = self.tokenizer(\n",
    "            text,\n",
    "            max_length=self.max_len,\n",
    "            padding=\"max_length\",\n",
    "            truncation=True,\n",
    "            return_tensors=\"pt\",\n",
    "        )\n",
    "        return {\n",
    "            \"input_ids\": encoding[\"input_ids\"].squeeze(0),\n",
    "            \"attention_mask\": encoding[\"attention_mask\"].squeeze(0),\n",
    "            \"target\": torch.tensor(target, dtype=torch.float),\n",
    "        }\n"
   ]
  },
  {
   "cell_type": "code",
   "execution_count": 8,
   "id": "44fdc574-b66c-49fc-871e-9a45369c5742",
   "metadata": {},
   "outputs": [],
   "source": [
    "train_dataset = ToxicCommentsDataset(xtrain, ytrain, tokenizer)\n",
    "valid_dataset = ToxicCommentsDataset(xvalid, yvalid, tokenizer)\n",
    "\n",
    "train_loader = DataLoader(train_dataset, batch_size=32, shuffle=True)\n",
    "valid_loader = DataLoader(valid_dataset, batch_size=32, shuffle=False)"
   ]
  },
  {
   "cell_type": "code",
   "execution_count": 9,
   "id": "19a82f79-c9d3-42bc-9fd3-ab39dae79d53",
   "metadata": {},
   "outputs": [],
   "source": [
    "class ToxicCommentClassifier(nn.Module):\n",
    "    def __init__(self, pretrained_model_name, hidden_size=768):\n",
    "        super(ToxicCommentClassifier, self).__init__()\n",
    "        self.bert = AutoModel.from_pretrained(pretrained_model_name)\n",
    "        self.dropout = nn.Dropout(0.3)\n",
    "        self.fc = nn.Linear(hidden_size, 1)\n",
    "\n",
    "    def forward(self, input_ids, attention_mask):\n",
    "        _, pooled_output = self.bert(input_ids=input_ids, attention_mask=attention_mask, return_dict=False)\n",
    "        output = self.dropout(pooled_output)\n",
    "        return self.fc(output)\n"
   ]
  },
  {
   "cell_type": "code",
   "execution_count": 10,
   "id": "3957b854-2429-4598-9641-f981d9201c38",
   "metadata": {},
   "outputs": [],
   "source": [
    "from sklearn.metrics import accuracy_score, precision_score, recall_score, f1_score, confusion_matrix\n",
    "\n",
    "def train_model(model, train_loader, valid_loader, criterion, optimizer, epochs=3):\n",
    "    for epoch in range(epochs):\n",
    "        model.train()\n",
    "        total_loss = 0\n",
    "        for batch in train_loader:\n",
    "            input_ids = batch[\"input_ids\"].to(device)\n",
    "            attention_mask = batch[\"attention_mask\"].to(device)\n",
    "            targets = batch[\"target\"].to(device)\n",
    "\n",
    "            optimizer.zero_grad()\n",
    "            outputs = model(input_ids, attention_mask)\n",
    "            loss = criterion(outputs.squeeze(-1), targets)\n",
    "            loss.backward()\n",
    "            optimizer.step()\n",
    "\n",
    "            total_loss += loss.item()\n",
    "\n",
    "        print(f\"Epoch {epoch+1}/{epochs}, Training Loss: {total_loss/len(train_loader)}\")\n",
    "\n",
    "        model.eval()\n",
    "        valid_preds = []\n",
    "        valid_targets = []\n",
    "        with torch.no_grad():\n",
    "            for batch in valid_loader:\n",
    "                input_ids = batch[\"input_ids\"].to(device)\n",
    "                attention_mask = batch[\"attention_mask\"].to(device)\n",
    "                targets = batch[\"target\"].to(device)\n",
    "\n",
    "                outputs = model(input_ids, attention_mask)\n",
    "                valid_preds.extend(torch.sigmoid(outputs).cpu().numpy())\n",
    "                valid_targets.extend(targets.cpu().numpy())\n",
    "\n",
    "        valid_preds_binary = [1 if p >= 0.5 else 0 for p in valid_preds]\n",
    "\n",
    "        auc = roc_auc_score(valid_targets, valid_preds)\n",
    "        acc = accuracy_score(valid_targets, valid_preds_binary)\n",
    "        precision = precision_score(valid_targets, valid_preds_binary)\n",
    "        recall = recall_score(valid_targets, valid_preds_binary)\n",
    "        f1 = f1_score(valid_targets, valid_preds_binary)\n",
    "        cm = confusion_matrix(valid_targets, valid_preds_binary)\n",
    "\n",
    "        print(f\"Validation AUC: {auc}\")\n",
    "        print(f\"Validation Accuracy: {acc}\")\n",
    "        print(f\"Validation Precision: {precision}\")\n",
    "        print(f\"Validation Recall: {recall}\")\n",
    "        print(f\"Validation F1 Score: {f1}\")\n",
    "        print(f\"Confusion Matrix:\\n{cm}\")\n"
   ]
  },
  {
   "cell_type": "code",
   "execution_count": 11,
   "id": "8ead4f14-14c9-48bf-a382-480a1efa04bc",
   "metadata": {},
   "outputs": [
    {
     "data": {
      "application/vnd.jupyter.widget-view+json": {
       "model_id": "9c2da66f6115463495510265b831d0ae",
       "version_major": 2,
       "version_minor": 0
      },
      "text/plain": [
       "model.safetensors:   0%|          | 0.00/440M [00:00<?, ?B/s]"
      ]
     },
     "metadata": {},
     "output_type": "display_data"
    },
    {
     "name": "stderr",
     "output_type": "stream",
     "text": [
      "C:\\Users\\wheel\\anaconda3\\Lib\\site-packages\\transformers\\optimization.py:591: FutureWarning: This implementation of AdamW is deprecated and will be removed in a future version. Use the PyTorch implementation torch.optim.AdamW instead, or set `no_deprecation_warning=True` to disable this warning\n",
      "  warnings.warn(\n"
     ]
    },
    {
     "name": "stdout",
     "output_type": "stream",
     "text": [
      "Epoch 1/3, Training Loss: 0.15922690741717815\n",
      "Validation AUC: 0.9804254525854208\n",
      "Validation Accuracy: 0.963765097875885\n",
      "Validation Precision: 0.7941176470588235\n",
      "Validation Recall: 0.8325991189427313\n",
      "Validation F1 Score: 0.8129032258064516\n",
      "Confusion Matrix:\n",
      "[[2125   49]\n",
      " [  38  189]]\n",
      "Epoch 2/3, Training Loss: 0.07274720245040953\n",
      "Validation AUC: 0.9838905122209208\n",
      "Validation Accuracy: 0.9604331528529779\n",
      "Validation Precision: 0.7481203007518797\n",
      "Validation Recall: 0.8766519823788547\n",
      "Validation F1 Score: 0.8073022312373225\n",
      "Confusion Matrix:\n",
      "[[2107   67]\n",
      " [  28  199]]\n",
      "Epoch 3/3, Training Loss: 0.030884130647949253\n",
      "Validation AUC: 0.9797405460609769\n",
      "Validation Accuracy: 0.9625156184922948\n",
      "Validation Precision: 0.8277511961722488\n",
      "Validation Recall: 0.762114537444934\n",
      "Validation F1 Score: 0.7935779816513762\n",
      "Confusion Matrix:\n",
      "[[2138   36]\n",
      " [  54  173]]\n"
     ]
    }
   ],
   "source": [
    "model = ToxicCommentClassifier(\"bert-base-uncased\")\n",
    "model = model.to(device)\n",
    "\n",
    "criterion = nn.BCEWithLogitsLoss()\n",
    "optimizer = AdamW(model.parameters(), lr=2e-5)\n",
    "\n",
    "train_model(model, train_loader, valid_loader, criterion, optimizer)\n"
   ]
  },
  {
   "cell_type": "code",
   "execution_count": 12,
   "id": "290be8b9-316f-404f-9c85-7ccb8221196e",
   "metadata": {},
   "outputs": [
    {
     "ename": "AttributeError",
     "evalue": "'BertTokenizerFast' object has no attribute 'texts_to_sequences'",
     "output_type": "error",
     "traceback": [
      "\u001b[1;31m---------------------------------------------------------------------------\u001b[0m",
      "\u001b[1;31mAttributeError\u001b[0m                            Traceback (most recent call last)",
      "Cell \u001b[1;32mIn[12], line 20\u001b[0m\n\u001b[0;32m     18\u001b[0m \u001b[38;5;66;03m# Example comment to test\u001b[39;00m\n\u001b[0;32m     19\u001b[0m test_comment \u001b[38;5;241m=\u001b[39m \u001b[38;5;124m\"\u001b[39m\u001b[38;5;124mYou\u001b[39m\u001b[38;5;124m'\u001b[39m\u001b[38;5;124mre such a horrible person!\u001b[39m\u001b[38;5;124m\"\u001b[39m\n\u001b[1;32m---> 20\u001b[0m predict_toxicity(test_comment)\n\u001b[0;32m     21\u001b[0m test_comment1 \u001b[38;5;241m=\u001b[39m \u001b[38;5;124m\"\u001b[39m\u001b[38;5;124mYou should go to hell!\u001b[39m\u001b[38;5;124m\"\u001b[39m\n\u001b[0;32m     22\u001b[0m predict_toxicity(test_comment1)\n",
      "Cell \u001b[1;32mIn[12], line 4\u001b[0m, in \u001b[0;36mpredict_toxicity\u001b[1;34m(comment)\u001b[0m\n\u001b[0;32m      2\u001b[0m \u001b[38;5;28;01mdef\u001b[39;00m \u001b[38;5;21mpredict_toxicity\u001b[39m(comment):\n\u001b[0;32m      3\u001b[0m     \u001b[38;5;66;03m# Tokenize and pad the input comment\u001b[39;00m\n\u001b[1;32m----> 4\u001b[0m     sequence \u001b[38;5;241m=\u001b[39m tokenizer\u001b[38;5;241m.\u001b[39mtexts_to_sequences([comment])\n\u001b[0;32m      5\u001b[0m     padded_sequence \u001b[38;5;241m=\u001b[39m pad_sequences(sequence, maxlen\u001b[38;5;241m=\u001b[39mmax_sequence_length)\n\u001b[0;32m      7\u001b[0m     \u001b[38;5;66;03m# Predict the toxic categories\u001b[39;00m\n",
      "\u001b[1;31mAttributeError\u001b[0m: 'BertTokenizerFast' object has no attribute 'texts_to_sequences'"
     ]
    }
   ],
   "source": [
    "# Function to preprocess and predict toxic categories\n",
    "def predict_toxicity(comment):\n",
    "    # Tokenize and pad the input comment\n",
    "    sequence = tokenizer.texts_to_sequences([comment])\n",
    "    padded_sequence = pad_sequences(sequence, maxlen=max_sequence_length)\n",
    "    \n",
    "    # Predict the toxic categories\n",
    "    prediction = model.predict(padded_sequence)\n",
    "    \n",
    "    # Convert predictions to binary (threshold = 0.5)\n",
    "    prediction_binary = (prediction > 0.5).astype(int)\n",
    "    \n",
    "    # Display results\n",
    "    categories = ['toxic', 'severe_toxic', 'obscene', 'threat', 'insult', 'identity_hate']\n",
    "    for category, pred in zip(categories, prediction_binary[0]):\n",
    "        print(f\"{category}: {'Yes' if pred == 1 else 'No'}\")\n",
    "\n",
    "# Example comment to test\n",
    "test_comment = \"You're such a horrible person!\"\n",
    "predict_toxicity(test_comment)\n",
    "test_comment1 = \"You should go to hell!\"\n",
    "predict_toxicity(test_comment1)"
   ]
  },
  {
   "cell_type": "code",
   "execution_count": null,
   "id": "7ce1442d-75eb-4619-a9cd-a21141b824c7",
   "metadata": {},
   "outputs": [],
   "source": []
  }
 ],
 "metadata": {
  "kernelspec": {
   "display_name": "Python (Anaconda)",
   "language": "python",
   "name": "anaconda"
  },
  "language_info": {
   "codemirror_mode": {
    "name": "ipython",
    "version": 3
   },
   "file_extension": ".py",
   "mimetype": "text/x-python",
   "name": "python",
   "nbconvert_exporter": "python",
   "pygments_lexer": "ipython3",
   "version": "3.12.4"
  }
 },
 "nbformat": 4,
 "nbformat_minor": 5
}
