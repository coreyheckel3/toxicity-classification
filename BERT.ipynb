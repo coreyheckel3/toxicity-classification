{
 "cells": [
  {
   "cell_type": "code",
   "execution_count": 37,
   "id": "91f50f17-d34f-4901-a25c-0173227a8d81",
   "metadata": {},
   "outputs": [
    {
     "name": "stdout",
     "output_type": "stream",
     "text": [
      "Using device: cpu\n"
     ]
    }
   ],
   "source": [
    "import numpy as np\n",
    "import pandas as pd\n",
    "from tqdm import tqdm\n",
    "from sklearn.model_selection import train_test_split\n",
    "from sklearn.metrics import accuracy_score, precision_score, recall_score, f1_score, confusion_matrix, roc_auc_score\n",
    "import torch\n",
    "import torch.nn as nn\n",
    "import torch.optim as optim\n",
    "from torch.utils.data import DataLoader, Dataset\n",
    "from sklearn.preprocessing import LabelEncoder\n",
    "\n",
    "device = torch.device(\"cuda\" if torch.cuda.is_available() else \"cpu\")\n",
    "print(\"Using device:\", device)"
   ]
  },
  {
   "cell_type": "code",
   "execution_count": 38,
   "id": "e16ff5d1-7faf-419c-8675-330f66a6b273",
   "metadata": {},
   "outputs": [],
   "source": [
    "train = pd.read_csv('CS 583 Project/jigsaw-toxic-comment-train.csv')\n",
    "validation = pd.read_csv('CS 583 Project/validation.csv')\n",
    "test = pd.read_csv('CS 583 Project/test.csv')"
   ]
  },
  {
   "cell_type": "code",
   "execution_count": 39,
   "id": "e7585ff7-cd02-4ecd-8e10-eb8030450989",
   "metadata": {},
   "outputs": [],
   "source": [
    "train.drop(['severe_toxic', 'obscene', 'threat', 'insult', 'identity_hate'], axis=1, inplace=True)\n",
    "train = train.loc[:12000, :]"
   ]
  },
  {
   "cell_type": "code",
   "execution_count": 40,
   "id": "77ecbdb5-4738-47d2-8de4-921c6fc737bf",
   "metadata": {},
   "outputs": [],
   "source": [
    "xtrain, xvalid, ytrain, yvalid = train_test_split(\n",
    "    train['comment_text'], train['toxic'], stratify=train['toxic'], random_state=42, test_size=0.2, shuffle=True\n",
    ")"
   ]
  },
  {
   "cell_type": "code",
   "execution_count": 41,
   "id": "74523047-7699-4d9f-b207-dc95c5df452a",
   "metadata": {},
   "outputs": [],
   "source": [
    "from transformers import AutoTokenizer, AutoModel, AdamW\n",
    "\n",
    "tokenizer = AutoTokenizer.from_pretrained(\"bert-base-uncased\")\n"
   ]
  },
  {
   "cell_type": "code",
   "execution_count": 42,
   "id": "b28322bf-90b3-4100-9845-38bbfb1a99cf",
   "metadata": {},
   "outputs": [],
   "source": [
    "class ToxicCommentsDataset(Dataset):\n",
    "    def __init__(self, texts, targets, tokenizer, max_len=150):\n",
    "        self.texts = texts\n",
    "        self.targets = targets\n",
    "        self.tokenizer = tokenizer\n",
    "        self.max_len = max_len\n",
    "\n",
    "    def __len__(self):\n",
    "        return len(self.texts)\n",
    "\n",
    "    def __getitem__(self, idx):\n",
    "        text = self.texts.iloc[idx]\n",
    "        target = self.targets.iloc[idx]\n",
    "        encoding = self.tokenizer(\n",
    "            text,\n",
    "            max_length=self.max_len,\n",
    "            padding=\"max_length\",\n",
    "            truncation=True,\n",
    "            return_tensors=\"pt\",\n",
    "        )\n",
    "        return {\n",
    "            \"input_ids\": encoding[\"input_ids\"].squeeze(0),\n",
    "            \"attention_mask\": encoding[\"attention_mask\"].squeeze(0),\n",
    "            \"target\": torch.tensor(target, dtype=torch.float),\n",
    "        }\n"
   ]
  },
  {
   "cell_type": "code",
   "execution_count": 43,
   "id": "44fdc574-b66c-49fc-871e-9a45369c5742",
   "metadata": {},
   "outputs": [],
   "source": [
    "train_dataset = ToxicCommentsDataset(xtrain, ytrain, tokenizer)\n",
    "valid_dataset = ToxicCommentsDataset(xvalid, yvalid, tokenizer)\n",
    "\n",
    "train_loader = DataLoader(train_dataset, batch_size=32, shuffle=True)\n",
    "valid_loader = DataLoader(valid_dataset, batch_size=32, shuffle=False)"
   ]
  },
  {
   "cell_type": "code",
   "execution_count": 44,
   "id": "19a82f79-c9d3-42bc-9fd3-ab39dae79d53",
   "metadata": {},
   "outputs": [],
   "source": [
    "class ToxicCommentClassifier(nn.Module):\n",
    "    def __init__(self, pretrained_model_name, hidden_size=768):\n",
    "        super(ToxicCommentClassifier, self).__init__()\n",
    "        self.bert = AutoModel.from_pretrained(pretrained_model_name)\n",
    "        self.dropout = nn.Dropout(0.3)\n",
    "        self.fc = nn.Linear(hidden_size, 1)\n",
    "\n",
    "    def forward(self, input_ids, attention_mask):\n",
    "        _, pooled_output = self.bert(input_ids=input_ids, attention_mask=attention_mask, return_dict=False)\n",
    "        output = self.dropout(pooled_output)\n",
    "        return self.fc(output)\n"
   ]
  },
  {
   "cell_type": "code",
   "execution_count": 45,
   "id": "3957b854-2429-4598-9641-f981d9201c38",
   "metadata": {},
   "outputs": [],
   "source": [
    "from sklearn.metrics import accuracy_score, precision_score, recall_score, f1_score, confusion_matrix\n",
    "\n",
    "def train_model(model, train_loader, valid_loader, criterion, optimizer, epochs=3):\n",
    "    for epoch in range(epochs):\n",
    "        model.train()\n",
    "        total_loss = 0\n",
    "        for batch in train_loader:\n",
    "            input_ids = batch[\"input_ids\"].to(device)\n",
    "            attention_mask = batch[\"attention_mask\"].to(device)\n",
    "            targets = batch[\"target\"].to(device)\n",
    "\n",
    "            optimizer.zero_grad()\n",
    "            outputs = model(input_ids, attention_mask)\n",
    "            loss = criterion(outputs.squeeze(-1), targets)\n",
    "            loss.backward()\n",
    "            optimizer.step()\n",
    "\n",
    "            total_loss += loss.item()\n",
    "\n",
    "        print(f\"Epoch {epoch+1}/{epochs}, Training Loss: {total_loss/len(train_loader)}\")\n",
    "\n",
    "        # Validation\n",
    "        model.eval()\n",
    "        valid_preds = []\n",
    "        valid_targets = []\n",
    "        with torch.no_grad():\n",
    "            for batch in valid_loader:\n",
    "                input_ids = batch[\"input_ids\"].to(device)\n",
    "                attention_mask = batch[\"attention_mask\"].to(device)\n",
    "                targets = batch[\"target\"].to(device)\n",
    "\n",
    "                outputs = model(input_ids, attention_mask)\n",
    "                valid_preds.extend(torch.sigmoid(outputs).cpu().numpy())\n",
    "                valid_targets.extend(targets.cpu().numpy())\n",
    "\n",
    "        # Convert predictions to binary values (0 or 1) based on a threshold (e.g., 0.5)\n",
    "        valid_preds_binary = [1 if p >= 0.5 else 0 for p in valid_preds]\n",
    "\n",
    "        # Calculate metrics\n",
    "        auc = roc_auc_score(valid_targets, valid_preds)\n",
    "        acc = accuracy_score(valid_targets, valid_preds_binary)\n",
    "        precision = precision_score(valid_targets, valid_preds_binary)\n",
    "        recall = recall_score(valid_targets, valid_preds_binary)\n",
    "        f1 = f1_score(valid_targets, valid_preds_binary)\n",
    "        cm = confusion_matrix(valid_targets, valid_preds_binary)\n",
    "\n",
    "        print(f\"Validation AUC: {auc}\")\n",
    "        print(f\"Validation Accuracy: {acc}\")\n",
    "        print(f\"Validation Precision: {precision}\")\n",
    "        print(f\"Validation Recall: {recall}\")\n",
    "        print(f\"Validation F1 Score: {f1}\")\n",
    "        print(f\"Confusion Matrix:\\n{cm}\")\n"
   ]
  },
  {
   "cell_type": "code",
   "execution_count": 47,
   "id": "8ead4f14-14c9-48bf-a382-480a1efa04bc",
   "metadata": {},
   "outputs": [
    {
     "name": "stdout",
     "output_type": "stream",
     "text": [
      "Epoch 1/3, Training Loss: 0.155218086897706\n",
      "Validation AUC: 0.9814548387227506\n",
      "Validation Accuracy: 0.965847563515202\n",
      "Validation Precision: 0.8310502283105022\n",
      "Validation Recall: 0.801762114537445\n",
      "Validation F1 Score: 0.8161434977578476\n",
      "Confusion Matrix:\n",
      "[[2137   37]\n",
      " [  45  182]]\n",
      "Epoch 2/3, Training Loss: 0.06449191097946216\n",
      "Validation AUC: 0.981584525165249\n",
      "Validation Accuracy: 0.9700124947938359\n",
      "Validation Precision: 0.8475336322869955\n",
      "Validation Recall: 0.8325991189427313\n",
      "Validation F1 Score: 0.84\n",
      "Confusion Matrix:\n",
      "[[2140   34]\n",
      " [  38  189]]\n",
      "Epoch 3/3, Training Loss: 0.025817780773892688\n",
      "Validation AUC: 0.9765794390250822\n",
      "Validation Accuracy: 0.9629321116201582\n",
      "Validation Precision: 0.7974137931034483\n",
      "Validation Recall: 0.8149779735682819\n",
      "Validation F1 Score: 0.8061002178649237\n",
      "Confusion Matrix:\n",
      "[[2127   47]\n",
      " [  42  185]]\n"
     ]
    }
   ],
   "source": [
    "model = ToxicCommentClassifier(\"bert-base-uncased\")\n",
    "model = model.to(device)\n",
    "\n",
    "# Define loss function and optimizer\n",
    "criterion = nn.BCEWithLogitsLoss()\n",
    "optimizer = AdamW(model.parameters(), lr=2e-5)\n",
    "\n",
    "# Train the model\n",
    "train_model(model, train_loader, valid_loader, criterion, optimizer)\n"
   ]
  }
 ],
 "metadata": {
  "kernelspec": {
   "display_name": "Python (Anaconda)",
   "language": "python",
   "name": "anaconda"
  },
  "language_info": {
   "codemirror_mode": {
    "name": "ipython",
    "version": 3
   },
   "file_extension": ".py",
   "mimetype": "text/x-python",
   "name": "python",
   "nbconvert_exporter": "python",
   "pygments_lexer": "ipython3",
   "version": "3.12.4"
  }
 },
 "nbformat": 4,
 "nbformat_minor": 5
}
